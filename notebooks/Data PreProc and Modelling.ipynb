{
 "cells": [
  {
   "cell_type": "code",
   "execution_count": null,
   "id": "f7ff8720",
   "metadata": {},
   "outputs": [],
   "source": [
    "# import packages\n",
    "\n",
    "import pandas as pd\n",
    "import numpy as np\n",
    "import matplotlib.pyplot as plt\n",
    "from category_encoders import BinaryEncoder\n",
    "from datetime import datetime\n",
    "from geopy.distance import geodesic\n",
    "from sklearn.model_selection import GridSearchCV, train_test_split\n",
    "from sklearn.linear_model import LinearRegression\n",
    "from sklearn.ensemble import RandomForestRegressor\n",
    "from sklearn.metrics import mean_squared_error\n",
    "import warnings\n",
    "warnings.filterwarnings(\"ignore\")"
   ]
  },
  {
   "cell_type": "code",
   "execution_count": null,
   "id": "6d11ec6a",
   "metadata": {
    "scrolled": true
   },
   "outputs": [],
   "source": [
    "# load dataset\n",
    "\n",
    "df = pd.read_csv('airbnb_dataset_clean.csv')\n",
    "df.head()"
   ]
  },
  {
   "cell_type": "code",
   "execution_count": null,
   "id": "d1e0c07c",
   "metadata": {
    "scrolled": false
   },
   "outputs": [],
   "source": [
    "# check missing values\n",
    "\n",
    "df.isna().sum()"
   ]
  },
  {
   "cell_type": "markdown",
   "id": "cf279789",
   "metadata": {},
   "source": [
    "## Feature Engineering"
   ]
  },
  {
   "cell_type": "code",
   "execution_count": null,
   "id": "f3020c6e",
   "metadata": {},
   "outputs": [],
   "source": [
    "# change 'host_since' show duration instead of dates\n",
    "\n",
    "df['host_since'] = pd.to_datetime(df['host_since'])\n",
    "df['host_duration_days'] = (datetime.now() - df['host_since']).dt.days\n",
    "\n",
    "# drop the original 'host_since' column\n",
    "df = df.drop(columns=['host_since'])"
   ]
  },
  {
   "cell_type": "code",
   "execution_count": null,
   "id": "3c93767a",
   "metadata": {},
   "outputs": [],
   "source": [
    "# change latitude & longitude to 'distance to reference'\n",
    "\n",
    "reference_point = (37.7749, -122.4194) # San Francisco city's center\n",
    "\n",
    "df['distance_to_reference'] = df.apply(lambda row: geodesic((row['latitude'], row['longitude']), reference_point).miles, axis=1)\n",
    "\n",
    "# drop the original latitude and longitude columns\n",
    "df = df.drop(columns=['latitude', 'longitude'])"
   ]
  },
  {
   "cell_type": "markdown",
   "id": "f4314897",
   "metadata": {},
   "source": [
    "## Encoding"
   ]
  },
  {
   "cell_type": "code",
   "execution_count": null,
   "id": "ac590233",
   "metadata": {},
   "outputs": [],
   "source": [
    "# binary encoding for 'property_type'\n",
    "\n",
    "binary_encoder = BinaryEncoder(cols=['property_type'])\n",
    "df = binary_encoder.fit_transform(df)"
   ]
  },
  {
   "cell_type": "code",
   "execution_count": null,
   "id": "52de1fc6",
   "metadata": {
    "scrolled": true
   },
   "outputs": [],
   "source": [
    "# one-hot encoding for 'room_type'\n",
    "\n",
    "df = pd.get_dummies(df, columns=['room_type'])\n",
    "df.head()"
   ]
  },
  {
   "cell_type": "markdown",
   "id": "cf32a6e8",
   "metadata": {},
   "source": [
    "## Splitting Dataset"
   ]
  },
  {
   "cell_type": "code",
   "execution_count": null,
   "id": "82689b58",
   "metadata": {},
   "outputs": [],
   "source": [
    "# split the dataset\n",
    "\n",
    "X = df.drop(['neighbourhood','price', 'log_price'], axis=1) # neighborhood is not relevant for predictions\n",
    "y = df['log_price']\n",
    "\n",
    "X_train, X_test, y_train, y_test = train_test_split(X, y, test_size=0.25, random_state=123)"
   ]
  },
  {
   "cell_type": "code",
   "execution_count": null,
   "id": "2668e081",
   "metadata": {},
   "outputs": [],
   "source": [
    "# check shape of the train and test data\n",
    "\n",
    "print(X_train.shape)\n",
    "print(y_train.shape)\n",
    "print(X_test.shape)\n",
    "print(y_test.shape)"
   ]
  },
  {
   "cell_type": "markdown",
   "id": "9ea05fad",
   "metadata": {},
   "source": [
    "## Model 1: Linear Regression"
   ]
  },
  {
   "cell_type": "code",
   "execution_count": null,
   "id": "eae3849c",
   "metadata": {},
   "outputs": [],
   "source": [
    "# initiate model: Linear Regression\n",
    "linear_reg_model = LinearRegression()\n",
    "linear_reg_model.fit(X_train, y_train)\n",
    "\n",
    "# Predict on the test set\n",
    "linear_reg_predictions = linear_reg_model.predict(X_test)\n",
    "\n",
    "# Evaluate Linear Regression model\n",
    "linear_reg_mse = mean_squared_error(y_test, linear_reg_predictions)\n",
    "print(\"Linear Regression Mean Squared Error:\", linear_reg_mse)"
   ]
  },
  {
   "cell_type": "markdown",
   "id": "341e33bf",
   "metadata": {},
   "source": [
    "## Model 2: Random Forest Regressor"
   ]
  },
  {
   "cell_type": "code",
   "execution_count": null,
   "id": "1ae6bc0d",
   "metadata": {},
   "outputs": [],
   "source": [
    "random_forest_model = RandomForestRegressor(random_state=123)\n",
    "random_forest_model.fit(X_train, y_train)\n",
    "\n",
    "# Predict on the test set\n",
    "random_forest_predictions = random_forest_model.predict(X_test)\n",
    "\n",
    "# Evaluate Random Forest model\n",
    "random_forest_mse = mean_squared_error(y_test, random_forest_predictions)\n",
    "print(\"Random Forest Mean Squared Error:\", random_forest_mse)"
   ]
  },
  {
   "cell_type": "markdown",
   "id": "b4b7ae94",
   "metadata": {},
   "source": [
    "### Conclusion"
   ]
  },
  {
   "cell_type": "code",
   "execution_count": null,
   "id": "d219586f",
   "metadata": {},
   "outputs": [],
   "source": []
  }
 ],
 "metadata": {
  "kernelspec": {
   "display_name": "Python 3 (ipykernel)",
   "language": "python",
   "name": "python3"
  },
  "language_info": {
   "codemirror_mode": {
    "name": "ipython",
    "version": 3
   },
   "file_extension": ".py",
   "mimetype": "text/x-python",
   "name": "python",
   "nbconvert_exporter": "python",
   "pygments_lexer": "ipython3",
   "version": "3.9.13"
  }
 },
 "nbformat": 4,
 "nbformat_minor": 5
}
