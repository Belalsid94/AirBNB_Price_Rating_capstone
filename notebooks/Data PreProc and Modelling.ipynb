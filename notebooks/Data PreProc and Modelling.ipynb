{
 "cells": [
  {
   "cell_type": "code",
   "execution_count": 1,
   "id": "f7ff8720",
   "metadata": {},
   "outputs": [],
   "source": [
    "# import packages\n",
    "import pandas as pd\n",
    "import numpy as np\n",
    "import matplotlib.pyplot as plt\n",
    "from math import radians\n",
    "from category_encoders import BinaryEncoder\n",
    "from datetime import datetime\n",
    "from sklearn.model_selection import GridSearchCV, train_test_split, cross_val_score\n",
    "from sklearn.linear_model import LinearRegression\n",
    "from sklearn.ensemble import RandomForestRegressor\n",
    "from sklearn.metrics import mean_squared_error \n",
    "import warnings\n",
    "warnings.filterwarnings(\"ignore\")"
   ]
  },
  {
   "cell_type": "code",
   "execution_count": 2,
   "id": "6d11ec6a",
   "metadata": {
    "scrolled": true
   },
   "outputs": [
    {
     "data": {
      "text/html": [
       "<div>\n",
       "<style scoped>\n",
       "    .dataframe tbody tr th:only-of-type {\n",
       "        vertical-align: middle;\n",
       "    }\n",
       "\n",
       "    .dataframe tbody tr th {\n",
       "        vertical-align: top;\n",
       "    }\n",
       "\n",
       "    .dataframe thead th {\n",
       "        text-align: right;\n",
       "    }\n",
       "</style>\n",
       "<table border=\"1\" class=\"dataframe\">\n",
       "  <thead>\n",
       "    <tr style=\"text-align: right;\">\n",
       "      <th></th>\n",
       "      <th>neighbourhood</th>\n",
       "      <th>host_listings_count</th>\n",
       "      <th>host_identity_verified</th>\n",
       "      <th>property_type</th>\n",
       "      <th>room_type</th>\n",
       "      <th>accommodates</th>\n",
       "      <th>beds</th>\n",
       "      <th>price</th>\n",
       "      <th>host_duration_days</th>\n",
       "      <th>log_price</th>\n",
       "      <th>location_cluster</th>\n",
       "    </tr>\n",
       "  </thead>\n",
       "  <tbody>\n",
       "    <tr>\n",
       "      <th>0</th>\n",
       "      <td>North Beach</td>\n",
       "      <td>1</td>\n",
       "      <td>1</td>\n",
       "      <td>Entire condo</td>\n",
       "      <td>Entire home/apt</td>\n",
       "      <td>4</td>\n",
       "      <td>2</td>\n",
       "      <td>417.0</td>\n",
       "      <td>3026</td>\n",
       "      <td>6.035481</td>\n",
       "      <td>0</td>\n",
       "    </tr>\n",
       "    <tr>\n",
       "      <th>1</th>\n",
       "      <td>South of Market</td>\n",
       "      <td>32</td>\n",
       "      <td>1</td>\n",
       "      <td>Entire serviced apartment</td>\n",
       "      <td>Entire home/apt</td>\n",
       "      <td>2</td>\n",
       "      <td>1</td>\n",
       "      <td>280.0</td>\n",
       "      <td>854</td>\n",
       "      <td>5.638355</td>\n",
       "      <td>0</td>\n",
       "    </tr>\n",
       "    <tr>\n",
       "      <th>2</th>\n",
       "      <td>Noe Valley</td>\n",
       "      <td>1</td>\n",
       "      <td>1</td>\n",
       "      <td>Entire condo</td>\n",
       "      <td>Entire home/apt</td>\n",
       "      <td>4</td>\n",
       "      <td>2</td>\n",
       "      <td>195.0</td>\n",
       "      <td>3645</td>\n",
       "      <td>5.278115</td>\n",
       "      <td>3</td>\n",
       "    </tr>\n",
       "    <tr>\n",
       "      <th>3</th>\n",
       "      <td>South of Market</td>\n",
       "      <td>1</td>\n",
       "      <td>1</td>\n",
       "      <td>Private room in home</td>\n",
       "      <td>Private room</td>\n",
       "      <td>2</td>\n",
       "      <td>1</td>\n",
       "      <td>60.0</td>\n",
       "      <td>3468</td>\n",
       "      <td>4.110874</td>\n",
       "      <td>0</td>\n",
       "    </tr>\n",
       "    <tr>\n",
       "      <th>4</th>\n",
       "      <td>Castro/Upper Market</td>\n",
       "      <td>1</td>\n",
       "      <td>0</td>\n",
       "      <td>Private room in condo</td>\n",
       "      <td>Private room</td>\n",
       "      <td>1</td>\n",
       "      <td>1</td>\n",
       "      <td>120.0</td>\n",
       "      <td>4290</td>\n",
       "      <td>4.795791</td>\n",
       "      <td>1</td>\n",
       "    </tr>\n",
       "  </tbody>\n",
       "</table>\n",
       "</div>"
      ],
      "text/plain": [
       "         neighbourhood  host_listings_count  host_identity_verified  \\\n",
       "0          North Beach                    1                       1   \n",
       "1      South of Market                   32                       1   \n",
       "2           Noe Valley                    1                       1   \n",
       "3      South of Market                    1                       1   \n",
       "4  Castro/Upper Market                    1                       0   \n",
       "\n",
       "               property_type        room_type  accommodates  beds  price  \\\n",
       "0               Entire condo  Entire home/apt             4     2  417.0   \n",
       "1  Entire serviced apartment  Entire home/apt             2     1  280.0   \n",
       "2               Entire condo  Entire home/apt             4     2  195.0   \n",
       "3       Private room in home     Private room             2     1   60.0   \n",
       "4      Private room in condo     Private room             1     1  120.0   \n",
       "\n",
       "   host_duration_days  log_price  location_cluster  \n",
       "0                3026   6.035481                 0  \n",
       "1                 854   5.638355                 0  \n",
       "2                3645   5.278115                 3  \n",
       "3                3468   4.110874                 0  \n",
       "4                4290   4.795791                 1  "
      ]
     },
     "execution_count": 2,
     "metadata": {},
     "output_type": "execute_result"
    }
   ],
   "source": [
    "# load dataset\n",
    "df = pd.read_csv('airbnb_dataset_clean.csv')\n",
    "df.head()"
   ]
  },
  {
   "cell_type": "code",
   "execution_count": 3,
   "id": "d1e0c07c",
   "metadata": {
    "scrolled": false
   },
   "outputs": [
    {
     "data": {
      "text/plain": [
       "neighbourhood             0\n",
       "host_listings_count       0\n",
       "host_identity_verified    0\n",
       "property_type             0\n",
       "room_type                 0\n",
       "accommodates              0\n",
       "beds                      0\n",
       "price                     0\n",
       "host_duration_days        0\n",
       "log_price                 0\n",
       "location_cluster          0\n",
       "dtype: int64"
      ]
     },
     "execution_count": 3,
     "metadata": {},
     "output_type": "execute_result"
    }
   ],
   "source": [
    "# check missing values\n",
    "df.isna().sum()"
   ]
  },
  {
   "cell_type": "markdown",
   "id": "f4314897",
   "metadata": {},
   "source": [
    "## Encoding"
   ]
  },
  {
   "cell_type": "code",
   "execution_count": 4,
   "id": "ac590233",
   "metadata": {},
   "outputs": [],
   "source": [
    "# binary encoding for 'property_type'\n",
    "binary_encoder = BinaryEncoder(cols=['property_type'])\n",
    "df = binary_encoder.fit_transform(df)"
   ]
  },
  {
   "cell_type": "code",
   "execution_count": 5,
   "id": "52de1fc6",
   "metadata": {
    "scrolled": true
   },
   "outputs": [
    {
     "data": {
      "text/html": [
       "<div>\n",
       "<style scoped>\n",
       "    .dataframe tbody tr th:only-of-type {\n",
       "        vertical-align: middle;\n",
       "    }\n",
       "\n",
       "    .dataframe tbody tr th {\n",
       "        vertical-align: top;\n",
       "    }\n",
       "\n",
       "    .dataframe thead th {\n",
       "        text-align: right;\n",
       "    }\n",
       "</style>\n",
       "<table border=\"1\" class=\"dataframe\">\n",
       "  <thead>\n",
       "    <tr style=\"text-align: right;\">\n",
       "      <th></th>\n",
       "      <th>neighbourhood</th>\n",
       "      <th>host_listings_count</th>\n",
       "      <th>host_identity_verified</th>\n",
       "      <th>property_type_0</th>\n",
       "      <th>property_type_1</th>\n",
       "      <th>property_type_2</th>\n",
       "      <th>property_type_3</th>\n",
       "      <th>property_type_4</th>\n",
       "      <th>property_type_5</th>\n",
       "      <th>accommodates</th>\n",
       "      <th>beds</th>\n",
       "      <th>price</th>\n",
       "      <th>host_duration_days</th>\n",
       "      <th>log_price</th>\n",
       "      <th>location_cluster</th>\n",
       "      <th>room_type_Entire home/apt</th>\n",
       "      <th>room_type_Hotel room</th>\n",
       "      <th>room_type_Private room</th>\n",
       "      <th>room_type_Shared room</th>\n",
       "    </tr>\n",
       "  </thead>\n",
       "  <tbody>\n",
       "    <tr>\n",
       "      <th>0</th>\n",
       "      <td>North Beach</td>\n",
       "      <td>1</td>\n",
       "      <td>1</td>\n",
       "      <td>0</td>\n",
       "      <td>0</td>\n",
       "      <td>0</td>\n",
       "      <td>0</td>\n",
       "      <td>0</td>\n",
       "      <td>1</td>\n",
       "      <td>4</td>\n",
       "      <td>2</td>\n",
       "      <td>417.0</td>\n",
       "      <td>3026</td>\n",
       "      <td>6.035481</td>\n",
       "      <td>0</td>\n",
       "      <td>1</td>\n",
       "      <td>0</td>\n",
       "      <td>0</td>\n",
       "      <td>0</td>\n",
       "    </tr>\n",
       "    <tr>\n",
       "      <th>1</th>\n",
       "      <td>South of Market</td>\n",
       "      <td>32</td>\n",
       "      <td>1</td>\n",
       "      <td>0</td>\n",
       "      <td>0</td>\n",
       "      <td>0</td>\n",
       "      <td>0</td>\n",
       "      <td>1</td>\n",
       "      <td>0</td>\n",
       "      <td>2</td>\n",
       "      <td>1</td>\n",
       "      <td>280.0</td>\n",
       "      <td>854</td>\n",
       "      <td>5.638355</td>\n",
       "      <td>0</td>\n",
       "      <td>1</td>\n",
       "      <td>0</td>\n",
       "      <td>0</td>\n",
       "      <td>0</td>\n",
       "    </tr>\n",
       "    <tr>\n",
       "      <th>2</th>\n",
       "      <td>Noe Valley</td>\n",
       "      <td>1</td>\n",
       "      <td>1</td>\n",
       "      <td>0</td>\n",
       "      <td>0</td>\n",
       "      <td>0</td>\n",
       "      <td>0</td>\n",
       "      <td>0</td>\n",
       "      <td>1</td>\n",
       "      <td>4</td>\n",
       "      <td>2</td>\n",
       "      <td>195.0</td>\n",
       "      <td>3645</td>\n",
       "      <td>5.278115</td>\n",
       "      <td>3</td>\n",
       "      <td>1</td>\n",
       "      <td>0</td>\n",
       "      <td>0</td>\n",
       "      <td>0</td>\n",
       "    </tr>\n",
       "    <tr>\n",
       "      <th>3</th>\n",
       "      <td>South of Market</td>\n",
       "      <td>1</td>\n",
       "      <td>1</td>\n",
       "      <td>0</td>\n",
       "      <td>0</td>\n",
       "      <td>0</td>\n",
       "      <td>0</td>\n",
       "      <td>1</td>\n",
       "      <td>1</td>\n",
       "      <td>2</td>\n",
       "      <td>1</td>\n",
       "      <td>60.0</td>\n",
       "      <td>3468</td>\n",
       "      <td>4.110874</td>\n",
       "      <td>0</td>\n",
       "      <td>0</td>\n",
       "      <td>0</td>\n",
       "      <td>1</td>\n",
       "      <td>0</td>\n",
       "    </tr>\n",
       "    <tr>\n",
       "      <th>4</th>\n",
       "      <td>Castro/Upper Market</td>\n",
       "      <td>1</td>\n",
       "      <td>0</td>\n",
       "      <td>0</td>\n",
       "      <td>0</td>\n",
       "      <td>0</td>\n",
       "      <td>1</td>\n",
       "      <td>0</td>\n",
       "      <td>0</td>\n",
       "      <td>1</td>\n",
       "      <td>1</td>\n",
       "      <td>120.0</td>\n",
       "      <td>4290</td>\n",
       "      <td>4.795791</td>\n",
       "      <td>1</td>\n",
       "      <td>0</td>\n",
       "      <td>0</td>\n",
       "      <td>1</td>\n",
       "      <td>0</td>\n",
       "    </tr>\n",
       "  </tbody>\n",
       "</table>\n",
       "</div>"
      ],
      "text/plain": [
       "         neighbourhood  host_listings_count  host_identity_verified  \\\n",
       "0          North Beach                    1                       1   \n",
       "1      South of Market                   32                       1   \n",
       "2           Noe Valley                    1                       1   \n",
       "3      South of Market                    1                       1   \n",
       "4  Castro/Upper Market                    1                       0   \n",
       "\n",
       "   property_type_0  property_type_1  property_type_2  property_type_3  \\\n",
       "0                0                0                0                0   \n",
       "1                0                0                0                0   \n",
       "2                0                0                0                0   \n",
       "3                0                0                0                0   \n",
       "4                0                0                0                1   \n",
       "\n",
       "   property_type_4  property_type_5  accommodates  beds  price  \\\n",
       "0                0                1             4     2  417.0   \n",
       "1                1                0             2     1  280.0   \n",
       "2                0                1             4     2  195.0   \n",
       "3                1                1             2     1   60.0   \n",
       "4                0                0             1     1  120.0   \n",
       "\n",
       "   host_duration_days  log_price  location_cluster  room_type_Entire home/apt  \\\n",
       "0                3026   6.035481                 0                          1   \n",
       "1                 854   5.638355                 0                          1   \n",
       "2                3645   5.278115                 3                          1   \n",
       "3                3468   4.110874                 0                          0   \n",
       "4                4290   4.795791                 1                          0   \n",
       "\n",
       "   room_type_Hotel room  room_type_Private room  room_type_Shared room  \n",
       "0                     0                       0                      0  \n",
       "1                     0                       0                      0  \n",
       "2                     0                       0                      0  \n",
       "3                     0                       1                      0  \n",
       "4                     0                       1                      0  "
      ]
     },
     "execution_count": 5,
     "metadata": {},
     "output_type": "execute_result"
    }
   ],
   "source": [
    "# one-hot encoding for 'room_type'\n",
    "df = pd.get_dummies(df, columns=['room_type'])\n",
    "df.head()"
   ]
  },
  {
   "cell_type": "markdown",
   "id": "cf32a6e8",
   "metadata": {},
   "source": [
    "## Splitting Dataset"
   ]
  },
  {
   "cell_type": "code",
   "execution_count": 6,
   "id": "82689b58",
   "metadata": {},
   "outputs": [],
   "source": [
    "# split the dataset\n",
    "X = df.drop(['neighbourhood','price', 'log_price'], axis=1) # neighborhood is not relevant for predictions\n",
    "y = df['log_price']\n",
    "\n",
    "X_train, X_test, y_train, y_test = train_test_split(X, y, test_size=0.25, random_state=123)"
   ]
  },
  {
   "cell_type": "code",
   "execution_count": 7,
   "id": "2668e081",
   "metadata": {},
   "outputs": [
    {
     "name": "stdout",
     "output_type": "stream",
     "text": [
      "(5406, 16)\n",
      "(5406,)\n",
      "(1802, 16)\n",
      "(1802,)\n"
     ]
    }
   ],
   "source": [
    "# check shape of the train and test data\n",
    "print(X_train.shape)\n",
    "print(y_train.shape)\n",
    "print(X_test.shape)\n",
    "print(y_test.shape)"
   ]
  },
  {
   "cell_type": "markdown",
   "id": "f92fa88e",
   "metadata": {},
   "source": [
    "## Model Selection"
   ]
  },
  {
   "cell_type": "markdown",
   "id": "9ea05fad",
   "metadata": {},
   "source": [
    "### Model 1: Linear Regression"
   ]
  },
  {
   "cell_type": "code",
   "execution_count": 8,
   "id": "eae3849c",
   "metadata": {},
   "outputs": [
    {
     "name": "stdout",
     "output_type": "stream",
     "text": [
      "Cross-Validation Mean MSE: 0.420559449988046\n",
      "Cross-Validation Standard Deviation of MSE: 0.053511341741974486\n"
     ]
    }
   ],
   "source": [
    "# initiate model\n",
    "linear_reg = LinearRegression()\n",
    "\n",
    "# perform cross-validation on training set\n",
    "cv_scores = cross_val_score(linear_reg, X_train, y_train, cv=5, scoring='neg_mean_squared_error')\n",
    "mse_scores = -cv_scores\n",
    "\n",
    "print(\"Cross-Validation Mean MSE:\", np.mean(mse_scores))\n",
    "print(\"Cross-Validation Standard Deviation of MSE:\", np.std(mse_scores))"
   ]
  },
  {
   "cell_type": "markdown",
   "id": "341e33bf",
   "metadata": {},
   "source": [
    "### Model 2: Random Forest Regressor"
   ]
  },
  {
   "cell_type": "code",
   "execution_count": 9,
   "id": "27e2b66c",
   "metadata": {},
   "outputs": [
    {
     "name": "stdout",
     "output_type": "stream",
     "text": [
      "Cross-Validation Mean MSE: 0.2808595628992869\n",
      "Cross-Validation Standard Deviation of MSE: 0.029199315077639947\n"
     ]
    }
   ],
   "source": [
    "# initiate model\n",
    "random_forest_reg = RandomForestRegressor(random_state=123)\n",
    "\n",
    "# perform cross-validation on training set\n",
    "cv_scores = cross_val_score(random_forest_reg, X_train, y_train, cv=5, scoring='neg_mean_squared_error')\n",
    "mse_scores = -cv_scores\n",
    "\n",
    "print(\"Cross-Validation Mean MSE:\", np.mean(mse_scores))\n",
    "print(\"Cross-Validation Standard Deviation of MSE:\", np.std(mse_scores))"
   ]
  },
  {
   "cell_type": "markdown",
   "id": "c5edbf58",
   "metadata": {},
   "source": [
    "It is evident that **Random Forest Regressor** is the better performing model for our dataset."
   ]
  },
  {
   "cell_type": "markdown",
   "id": "0b99c289",
   "metadata": {},
   "source": [
    "## Hyperparameter tuning"
   ]
  },
  {
   "cell_type": "code",
   "execution_count": 10,
   "id": "306d63e7",
   "metadata": {},
   "outputs": [
    {
     "name": "stdout",
     "output_type": "stream",
     "text": [
      "Best Hyperparameters: {'max_depth': 20, 'min_samples_split': 5, 'n_estimators': 200}\n"
     ]
    }
   ],
   "source": [
    "param_grid = {\n",
    "    'n_estimators': [100, 150, 200],\n",
    "    'max_depth': [None, 10, 20],\n",
    "    'min_samples_split': [2, 5, 10],\n",
    "}\n",
    "\n",
    "# perform grid search with cross-validation\n",
    "grid_search = GridSearchCV(estimator=random_forest_reg, param_grid=param_grid, cv=5, scoring='neg_mean_squared_error')\n",
    "grid_search.fit(X_train, y_train)\n",
    "\n",
    "# print the best hyperparameters\n",
    "best_params = grid_search.best_params_\n",
    "print(\"Best Hyperparameters:\", best_params)"
   ]
  },
  {
   "cell_type": "markdown",
   "id": "aa4d89ee",
   "metadata": {},
   "source": [
    "### Final Modeling"
   ]
  },
  {
   "cell_type": "code",
   "execution_count": 11,
   "id": "41144b13",
   "metadata": {},
   "outputs": [
    {
     "name": "stdout",
     "output_type": "stream",
     "text": [
      "Random Forest Mean Squared Error: 0.24938580925357015\n"
     ]
    }
   ],
   "source": [
    "# create final model with the best hyperparameters\n",
    "best_rf_model = RandomForestRegressor(random_state=123, **best_params)\n",
    "\n",
    "# fit the model on the training data\n",
    "best_rf_model.fit(X_train, y_train)\n",
    "\n",
    "# predict on the test set\n",
    "preds = best_rf_model.predict(X_test)\n",
    "\n",
    "# evaluate the model\n",
    "mse = mean_squared_error(y_test, preds)\n",
    "print(\"Random Forest Mean Squared Error:\", mse)"
   ]
  },
  {
   "cell_type": "markdown",
   "id": "b4b7ae94",
   "metadata": {},
   "source": [
    "## Conclusion"
   ]
  },
  {
   "cell_type": "markdown",
   "id": "5fb5c8c9",
   "metadata": {},
   "source": [
    "* The final Random Forest model achieved an impressive Mean Squared Error (MSE) of approx. **0.25** on the test set, which makes it a reliable tool for estimating Airbnb rental prices, for the city of San Francisco. \n",
    "* Future work could explore enhancements, such as incorporating temporal trends or experimenting with advanced modeling techniques, to further refine the predictive capabilities of the model."
   ]
  }
 ],
 "metadata": {
  "kernelspec": {
   "display_name": "Python 3 (ipykernel)",
   "language": "python",
   "name": "python3"
  },
  "language_info": {
   "codemirror_mode": {
    "name": "ipython",
    "version": 3
   },
   "file_extension": ".py",
   "mimetype": "text/x-python",
   "name": "python",
   "nbconvert_exporter": "python",
   "pygments_lexer": "ipython3",
   "version": "3.9.13"
  }
 },
 "nbformat": 4,
 "nbformat_minor": 5
}
