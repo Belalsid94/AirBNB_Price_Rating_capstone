{
 "cells": [
  {
   "cell_type": "code",
   "execution_count": 7,
   "id": "f7ff8720",
   "metadata": {},
   "outputs": [],
   "source": [
    "# import packages\n",
    "\n",
    "import pandas as pd\n",
    "import numpy as np\n",
    "import matplotlib.pyplot as plt\n",
    "from math import radians\n",
    "from category_encoders import BinaryEncoder\n",
    "from datetime import datetime\n",
    "from sklearn.model_selection import GridSearchCV, train_test_split\n",
    "from sklearn.linear_model import LinearRegression\n",
    "from sklearn.ensemble import RandomForestRegressor\n",
    "from sklearn.metrics import mean_squared_error\n",
    "import warnings\n",
    "warnings.filterwarnings(\"ignore\")"
   ]
  },
  {
   "cell_type": "code",
   "execution_count": 59,
   "id": "6d11ec6a",
   "metadata": {
    "scrolled": true
   },
   "outputs": [
    {
     "data": {
      "text/html": [
       "<div>\n",
       "<style scoped>\n",
       "    .dataframe tbody tr th:only-of-type {\n",
       "        vertical-align: middle;\n",
       "    }\n",
       "\n",
       "    .dataframe tbody tr th {\n",
       "        vertical-align: top;\n",
       "    }\n",
       "\n",
       "    .dataframe thead th {\n",
       "        text-align: right;\n",
       "    }\n",
       "</style>\n",
       "<table border=\"1\" class=\"dataframe\">\n",
       "  <thead>\n",
       "    <tr style=\"text-align: right;\">\n",
       "      <th></th>\n",
       "      <th>neighbourhood</th>\n",
       "      <th>latitude</th>\n",
       "      <th>longitude</th>\n",
       "      <th>host_listings_count</th>\n",
       "      <th>host_identity_verified</th>\n",
       "      <th>property_type</th>\n",
       "      <th>room_type</th>\n",
       "      <th>accommodates</th>\n",
       "      <th>beds</th>\n",
       "      <th>price</th>\n",
       "      <th>host_duration_days</th>\n",
       "      <th>log_price</th>\n",
       "      <th>location_cluster</th>\n",
       "    </tr>\n",
       "  </thead>\n",
       "  <tbody>\n",
       "    <tr>\n",
       "      <th>0</th>\n",
       "      <td>North Beach</td>\n",
       "      <td>0.659774</td>\n",
       "      <td>-2.136426</td>\n",
       "      <td>1</td>\n",
       "      <td>1</td>\n",
       "      <td>Entire condo</td>\n",
       "      <td>Entire home/apt</td>\n",
       "      <td>4</td>\n",
       "      <td>2</td>\n",
       "      <td>417.0</td>\n",
       "      <td>3025</td>\n",
       "      <td>6.035481</td>\n",
       "      <td>0</td>\n",
       "    </tr>\n",
       "    <tr>\n",
       "      <th>1</th>\n",
       "      <td>South of Market</td>\n",
       "      <td>0.659316</td>\n",
       "      <td>-2.136561</td>\n",
       "      <td>32</td>\n",
       "      <td>1</td>\n",
       "      <td>Entire serviced apartment</td>\n",
       "      <td>Entire home/apt</td>\n",
       "      <td>2</td>\n",
       "      <td>1</td>\n",
       "      <td>280.0</td>\n",
       "      <td>853</td>\n",
       "      <td>5.638355</td>\n",
       "      <td>0</td>\n",
       "    </tr>\n",
       "    <tr>\n",
       "      <th>2</th>\n",
       "      <td>Noe Valley</td>\n",
       "      <td>0.658869</td>\n",
       "      <td>-2.136738</td>\n",
       "      <td>1</td>\n",
       "      <td>1</td>\n",
       "      <td>Entire condo</td>\n",
       "      <td>Entire home/apt</td>\n",
       "      <td>4</td>\n",
       "      <td>2</td>\n",
       "      <td>195.0</td>\n",
       "      <td>3644</td>\n",
       "      <td>5.278115</td>\n",
       "      <td>3</td>\n",
       "    </tr>\n",
       "    <tr>\n",
       "      <th>3</th>\n",
       "      <td>South of Market</td>\n",
       "      <td>0.659319</td>\n",
       "      <td>-2.136569</td>\n",
       "      <td>1</td>\n",
       "      <td>1</td>\n",
       "      <td>Private room in home</td>\n",
       "      <td>Private room</td>\n",
       "      <td>2</td>\n",
       "      <td>1</td>\n",
       "      <td>60.0</td>\n",
       "      <td>3467</td>\n",
       "      <td>4.110874</td>\n",
       "      <td>0</td>\n",
       "    </tr>\n",
       "    <tr>\n",
       "      <th>4</th>\n",
       "      <td>Castro/Upper Market</td>\n",
       "      <td>0.659017</td>\n",
       "      <td>-2.136890</td>\n",
       "      <td>1</td>\n",
       "      <td>0</td>\n",
       "      <td>Private room in condo</td>\n",
       "      <td>Private room</td>\n",
       "      <td>1</td>\n",
       "      <td>1</td>\n",
       "      <td>120.0</td>\n",
       "      <td>4289</td>\n",
       "      <td>4.795791</td>\n",
       "      <td>1</td>\n",
       "    </tr>\n",
       "  </tbody>\n",
       "</table>\n",
       "</div>"
      ],
      "text/plain": [
       "         neighbourhood  latitude  longitude  host_listings_count  \\\n",
       "0          North Beach  0.659774  -2.136426                    1   \n",
       "1      South of Market  0.659316  -2.136561                   32   \n",
       "2           Noe Valley  0.658869  -2.136738                    1   \n",
       "3      South of Market  0.659319  -2.136569                    1   \n",
       "4  Castro/Upper Market  0.659017  -2.136890                    1   \n",
       "\n",
       "   host_identity_verified              property_type        room_type  \\\n",
       "0                       1               Entire condo  Entire home/apt   \n",
       "1                       1  Entire serviced apartment  Entire home/apt   \n",
       "2                       1               Entire condo  Entire home/apt   \n",
       "3                       1       Private room in home     Private room   \n",
       "4                       0      Private room in condo     Private room   \n",
       "\n",
       "   accommodates  beds  price  host_duration_days  log_price  location_cluster  \n",
       "0             4     2  417.0                3025   6.035481                 0  \n",
       "1             2     1  280.0                 853   5.638355                 0  \n",
       "2             4     2  195.0                3644   5.278115                 3  \n",
       "3             2     1   60.0                3467   4.110874                 0  \n",
       "4             1     1  120.0                4289   4.795791                 1  "
      ]
     },
     "execution_count": 59,
     "metadata": {},
     "output_type": "execute_result"
    }
   ],
   "source": [
    "# load dataset\n",
    "\n",
    "df = pd.read_csv('airbnb_dataset_clean.csv')\n",
    "df.head()"
   ]
  },
  {
   "cell_type": "code",
   "execution_count": 3,
   "id": "d1e0c07c",
   "metadata": {
    "scrolled": false
   },
   "outputs": [
    {
     "data": {
      "text/plain": [
       "neighbourhood             0\n",
       "latitude                  0\n",
       "longitude                 0\n",
       "host_since                0\n",
       "host_listings_count       0\n",
       "host_identity_verified    0\n",
       "property_type             0\n",
       "room_type                 0\n",
       "accommodates              0\n",
       "beds                      0\n",
       "price                     0\n",
       "log_price                 0\n",
       "dtype: int64"
      ]
     },
     "execution_count": 3,
     "metadata": {},
     "output_type": "execute_result"
    }
   ],
   "source": [
    "# check missing values\n",
    "\n",
    "df.isna().sum()"
   ]
  },
  {
   "cell_type": "markdown",
   "id": "f4314897",
   "metadata": {},
   "source": [
    "## Encoding"
   ]
  },
  {
   "cell_type": "code",
   "execution_count": 60,
   "id": "ac590233",
   "metadata": {},
   "outputs": [],
   "source": [
    "# binary encoding for 'property_type'\n",
    "\n",
    "binary_encoder = BinaryEncoder(cols=['property_type'])\n",
    "df = binary_encoder.fit_transform(df)"
   ]
  },
  {
   "cell_type": "code",
   "execution_count": 61,
   "id": "52de1fc6",
   "metadata": {
    "scrolled": true
   },
   "outputs": [
    {
     "data": {
      "text/html": [
       "<div>\n",
       "<style scoped>\n",
       "    .dataframe tbody tr th:only-of-type {\n",
       "        vertical-align: middle;\n",
       "    }\n",
       "\n",
       "    .dataframe tbody tr th {\n",
       "        vertical-align: top;\n",
       "    }\n",
       "\n",
       "    .dataframe thead th {\n",
       "        text-align: right;\n",
       "    }\n",
       "</style>\n",
       "<table border=\"1\" class=\"dataframe\">\n",
       "  <thead>\n",
       "    <tr style=\"text-align: right;\">\n",
       "      <th></th>\n",
       "      <th>neighbourhood</th>\n",
       "      <th>latitude</th>\n",
       "      <th>longitude</th>\n",
       "      <th>host_listings_count</th>\n",
       "      <th>host_identity_verified</th>\n",
       "      <th>property_type_0</th>\n",
       "      <th>property_type_1</th>\n",
       "      <th>property_type_2</th>\n",
       "      <th>property_type_3</th>\n",
       "      <th>property_type_4</th>\n",
       "      <th>...</th>\n",
       "      <th>accommodates</th>\n",
       "      <th>beds</th>\n",
       "      <th>price</th>\n",
       "      <th>host_duration_days</th>\n",
       "      <th>log_price</th>\n",
       "      <th>location_cluster</th>\n",
       "      <th>room_type_Entire home/apt</th>\n",
       "      <th>room_type_Hotel room</th>\n",
       "      <th>room_type_Private room</th>\n",
       "      <th>room_type_Shared room</th>\n",
       "    </tr>\n",
       "  </thead>\n",
       "  <tbody>\n",
       "    <tr>\n",
       "      <th>0</th>\n",
       "      <td>North Beach</td>\n",
       "      <td>0.659774</td>\n",
       "      <td>-2.136426</td>\n",
       "      <td>1</td>\n",
       "      <td>1</td>\n",
       "      <td>0</td>\n",
       "      <td>0</td>\n",
       "      <td>0</td>\n",
       "      <td>0</td>\n",
       "      <td>0</td>\n",
       "      <td>...</td>\n",
       "      <td>4</td>\n",
       "      <td>2</td>\n",
       "      <td>417.0</td>\n",
       "      <td>3025</td>\n",
       "      <td>6.035481</td>\n",
       "      <td>0</td>\n",
       "      <td>1</td>\n",
       "      <td>0</td>\n",
       "      <td>0</td>\n",
       "      <td>0</td>\n",
       "    </tr>\n",
       "    <tr>\n",
       "      <th>1</th>\n",
       "      <td>South of Market</td>\n",
       "      <td>0.659316</td>\n",
       "      <td>-2.136561</td>\n",
       "      <td>32</td>\n",
       "      <td>1</td>\n",
       "      <td>0</td>\n",
       "      <td>0</td>\n",
       "      <td>0</td>\n",
       "      <td>0</td>\n",
       "      <td>1</td>\n",
       "      <td>...</td>\n",
       "      <td>2</td>\n",
       "      <td>1</td>\n",
       "      <td>280.0</td>\n",
       "      <td>853</td>\n",
       "      <td>5.638355</td>\n",
       "      <td>0</td>\n",
       "      <td>1</td>\n",
       "      <td>0</td>\n",
       "      <td>0</td>\n",
       "      <td>0</td>\n",
       "    </tr>\n",
       "    <tr>\n",
       "      <th>2</th>\n",
       "      <td>Noe Valley</td>\n",
       "      <td>0.658869</td>\n",
       "      <td>-2.136738</td>\n",
       "      <td>1</td>\n",
       "      <td>1</td>\n",
       "      <td>0</td>\n",
       "      <td>0</td>\n",
       "      <td>0</td>\n",
       "      <td>0</td>\n",
       "      <td>0</td>\n",
       "      <td>...</td>\n",
       "      <td>4</td>\n",
       "      <td>2</td>\n",
       "      <td>195.0</td>\n",
       "      <td>3644</td>\n",
       "      <td>5.278115</td>\n",
       "      <td>3</td>\n",
       "      <td>1</td>\n",
       "      <td>0</td>\n",
       "      <td>0</td>\n",
       "      <td>0</td>\n",
       "    </tr>\n",
       "    <tr>\n",
       "      <th>3</th>\n",
       "      <td>South of Market</td>\n",
       "      <td>0.659319</td>\n",
       "      <td>-2.136569</td>\n",
       "      <td>1</td>\n",
       "      <td>1</td>\n",
       "      <td>0</td>\n",
       "      <td>0</td>\n",
       "      <td>0</td>\n",
       "      <td>0</td>\n",
       "      <td>1</td>\n",
       "      <td>...</td>\n",
       "      <td>2</td>\n",
       "      <td>1</td>\n",
       "      <td>60.0</td>\n",
       "      <td>3467</td>\n",
       "      <td>4.110874</td>\n",
       "      <td>0</td>\n",
       "      <td>0</td>\n",
       "      <td>0</td>\n",
       "      <td>1</td>\n",
       "      <td>0</td>\n",
       "    </tr>\n",
       "    <tr>\n",
       "      <th>4</th>\n",
       "      <td>Castro/Upper Market</td>\n",
       "      <td>0.659017</td>\n",
       "      <td>-2.136890</td>\n",
       "      <td>1</td>\n",
       "      <td>0</td>\n",
       "      <td>0</td>\n",
       "      <td>0</td>\n",
       "      <td>0</td>\n",
       "      <td>1</td>\n",
       "      <td>0</td>\n",
       "      <td>...</td>\n",
       "      <td>1</td>\n",
       "      <td>1</td>\n",
       "      <td>120.0</td>\n",
       "      <td>4289</td>\n",
       "      <td>4.795791</td>\n",
       "      <td>1</td>\n",
       "      <td>0</td>\n",
       "      <td>0</td>\n",
       "      <td>1</td>\n",
       "      <td>0</td>\n",
       "    </tr>\n",
       "  </tbody>\n",
       "</table>\n",
       "<p>5 rows × 21 columns</p>\n",
       "</div>"
      ],
      "text/plain": [
       "         neighbourhood  latitude  longitude  host_listings_count  \\\n",
       "0          North Beach  0.659774  -2.136426                    1   \n",
       "1      South of Market  0.659316  -2.136561                   32   \n",
       "2           Noe Valley  0.658869  -2.136738                    1   \n",
       "3      South of Market  0.659319  -2.136569                    1   \n",
       "4  Castro/Upper Market  0.659017  -2.136890                    1   \n",
       "\n",
       "   host_identity_verified  property_type_0  property_type_1  property_type_2  \\\n",
       "0                       1                0                0                0   \n",
       "1                       1                0                0                0   \n",
       "2                       1                0                0                0   \n",
       "3                       1                0                0                0   \n",
       "4                       0                0                0                0   \n",
       "\n",
       "   property_type_3  property_type_4  ...  accommodates  beds  price  \\\n",
       "0                0                0  ...             4     2  417.0   \n",
       "1                0                1  ...             2     1  280.0   \n",
       "2                0                0  ...             4     2  195.0   \n",
       "3                0                1  ...             2     1   60.0   \n",
       "4                1                0  ...             1     1  120.0   \n",
       "\n",
       "   host_duration_days  log_price  location_cluster  room_type_Entire home/apt  \\\n",
       "0                3025   6.035481                 0                          1   \n",
       "1                 853   5.638355                 0                          1   \n",
       "2                3644   5.278115                 3                          1   \n",
       "3                3467   4.110874                 0                          0   \n",
       "4                4289   4.795791                 1                          0   \n",
       "\n",
       "   room_type_Hotel room  room_type_Private room  room_type_Shared room  \n",
       "0                     0                       0                      0  \n",
       "1                     0                       0                      0  \n",
       "2                     0                       0                      0  \n",
       "3                     0                       1                      0  \n",
       "4                     0                       1                      0  \n",
       "\n",
       "[5 rows x 21 columns]"
      ]
     },
     "execution_count": 61,
     "metadata": {},
     "output_type": "execute_result"
    }
   ],
   "source": [
    "# one-hot encoding for 'room_type'\n",
    "\n",
    "df = pd.get_dummies(df, columns=['room_type'])\n",
    "df.head()"
   ]
  },
  {
   "cell_type": "markdown",
   "id": "cf32a6e8",
   "metadata": {},
   "source": [
    "## Splitting Dataset"
   ]
  },
  {
   "cell_type": "code",
   "execution_count": 62,
   "id": "82689b58",
   "metadata": {},
   "outputs": [],
   "source": [
    "# split the dataset\n",
    "\n",
    "X = df.drop(['neighbourhood','price', 'log_price'], axis=1) # neighborhood is not relevant for predictions\n",
    "y = df['log_price']\n",
    "\n",
    "X_train, X_test, y_train, y_test = train_test_split(X, y, test_size=0.25, random_state=123)"
   ]
  },
  {
   "cell_type": "code",
   "execution_count": 63,
   "id": "2668e081",
   "metadata": {},
   "outputs": [
    {
     "name": "stdout",
     "output_type": "stream",
     "text": [
      "(5406, 18)\n",
      "(5406,)\n",
      "(1802, 18)\n",
      "(1802,)\n"
     ]
    }
   ],
   "source": [
    "# check shape of the train and test data\n",
    "\n",
    "print(X_train.shape)\n",
    "print(y_train.shape)\n",
    "print(X_test.shape)\n",
    "print(y_test.shape)"
   ]
  },
  {
   "cell_type": "markdown",
   "id": "9ea05fad",
   "metadata": {},
   "source": [
    "## Model 1: Linear Regression"
   ]
  },
  {
   "cell_type": "code",
   "execution_count": 64,
   "id": "eae3849c",
   "metadata": {},
   "outputs": [
    {
     "name": "stdout",
     "output_type": "stream",
     "text": [
      "Linear Regression Mean Squared Error: 0.4240277191208681\n"
     ]
    }
   ],
   "source": [
    "linear_reg_model = LinearRegression()\n",
    "linear_reg_model.fit(X_train, y_train)\n",
    "\n",
    "# predict on test set\n",
    "linear_reg_predictions = linear_reg_model.predict(X_test)\n",
    "\n",
    "# evaluate model\n",
    "linear_reg_mse = mean_squared_error(y_test, linear_reg_predictions)\n",
    "print(\"Linear Regression Mean Squared Error:\", round(linear_reg_mse,2))"
   ]
  },
  {
   "cell_type": "markdown",
   "id": "341e33bf",
   "metadata": {},
   "source": [
    "## Model 2: Random Forest Regressor"
   ]
  },
  {
   "cell_type": "code",
   "execution_count": 65,
   "id": "1ae6bc0d",
   "metadata": {
    "scrolled": true
   },
   "outputs": [
    {
     "name": "stdout",
     "output_type": "stream",
     "text": [
      "Random Forest Mean Squared Error: 0.2260576652717793\n"
     ]
    }
   ],
   "source": [
    "random_forest_model = RandomForestRegressor(random_state=123)\n",
    "random_forest_model.fit(X_train, y_train)\n",
    "\n",
    "# predict on test set\n",
    "random_forest_predictions = random_forest_model.predict(X_test)\n",
    "\n",
    "# evaluate model\n",
    "random_forest_mse = mean_squared_error(y_test, random_forest_predictions)\n",
    "print(\"Random Forest Mean Squared Error:\", round(random_forest_mse,2))"
   ]
  },
  {
   "cell_type": "markdown",
   "id": "4bc7d2ed",
   "metadata": {},
   "source": [
    "## Model Selection"
   ]
  },
  {
   "cell_type": "markdown",
   "id": "a960e9c8",
   "metadata": {},
   "source": [
    "It is evident that **Random Forest Regressor**, with a MSE of **0.23** is performing better than Linear Regression, which has MSE of **0.42**. "
   ]
  },
  {
   "cell_type": "markdown",
   "id": "0d6d2635",
   "metadata": {},
   "source": [
    "## Hyperparameter tuning"
   ]
  },
  {
   "cell_type": "code",
   "execution_count": null,
   "id": "8292f930",
   "metadata": {},
   "outputs": [],
   "source": [
    "param_grid = {\n",
    "    'n_estimators': [50, 100, 150],\n",
    "    'max_depth': [None, 10, 20],\n",
    "    'min_samples_split': [2, 5, 10],\n",
    "    'min_samples_leaf': [1, 2, 4]\n",
    "}\n",
    "\n",
    "# Perform grid search with cross-validation\n",
    "grid_search = GridSearchCV(estimator=random_forest_model, param_grid=param_grid, cv=5, scoring='neg_mean_squared_error')\n",
    "grid_search.fit(X_train, y_train)\n",
    "\n",
    "# Get the best hyperparameters\n",
    "best_params = grid_search.best_params_\n",
    "\n",
    "# Create a Random Forest model with the best hyperparameters\n",
    "best_random_forest_model = RandomForestRegressor(random_state=123, **best_params)\n",
    "\n",
    "# Fit the model on the training data\n",
    "best_random_forest_model.fit(X_train, y_train)\n",
    "\n",
    "# Predict on the test set\n",
    "random_forest_predictions = best_random_forest_model.predict(X_test)\n",
    "\n",
    "# Evaluate the model\n",
    "random_forest_mse = mean_squared_error(y_test, random_forest_predictions)\n",
    "print(\"Random Forest Mean Squared Error:\", random_forest_mse)\n",
    "print(\"Best Hyperparameters:\", best_params)"
   ]
  },
  {
   "cell_type": "markdown",
   "id": "8aadb911",
   "metadata": {},
   "source": [
    "n_estimators: 100\n",
    "max_depth: None\n",
    "min_samples_split: 2\n",
    "min_samples_leaf: 1"
   ]
  },
  {
   "cell_type": "markdown",
   "id": "b4b7ae94",
   "metadata": {},
   "source": [
    "### Conclusion"
   ]
  },
  {
   "cell_type": "markdown",
   "id": "7afa7009",
   "metadata": {},
   "source": []
  }
 ],
 "metadata": {
  "kernelspec": {
   "display_name": "Python 3 (ipykernel)",
   "language": "python",
   "name": "python3"
  },
  "language_info": {
   "codemirror_mode": {
    "name": "ipython",
    "version": 3
   },
   "file_extension": ".py",
   "mimetype": "text/x-python",
   "name": "python",
   "nbconvert_exporter": "python",
   "pygments_lexer": "ipython3",
   "version": "3.9.13"
  }
 },
 "nbformat": 4,
 "nbformat_minor": 5
}
