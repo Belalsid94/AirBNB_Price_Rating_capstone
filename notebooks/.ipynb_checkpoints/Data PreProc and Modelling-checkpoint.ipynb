{
 "cells": [
  {
   "cell_type": "code",
   "execution_count": 1,
   "id": "f7ff8720",
   "metadata": {},
   "outputs": [],
   "source": [
    "# import packages\n",
    "\n",
    "import pandas as pd\n",
    "import numpy as np\n",
    "import matplotlib.pyplot as plt\n",
    "from category_encoders import BinaryEncoder\n",
    "from datetime import datetime\n",
    "from geopy.distance import geodesic\n",
    "from sklearn.model_selection import GridSearchCV, train_test_split\n",
    "from sklearn.linear_model import LinearRegression\n",
    "from sklearn.ensemble import RandomForestRegressor\n",
    "from sklearn.metrics import mean_squared_error\n",
    "import warnings\n",
    "warnings.filterwarnings(\"ignore\")"
   ]
  },
  {
   "cell_type": "code",
   "execution_count": 2,
   "id": "6d11ec6a",
   "metadata": {
    "scrolled": true
   },
   "outputs": [
    {
     "data": {
      "text/html": [
       "<div>\n",
       "<style scoped>\n",
       "    .dataframe tbody tr th:only-of-type {\n",
       "        vertical-align: middle;\n",
       "    }\n",
       "\n",
       "    .dataframe tbody tr th {\n",
       "        vertical-align: top;\n",
       "    }\n",
       "\n",
       "    .dataframe thead th {\n",
       "        text-align: right;\n",
       "    }\n",
       "</style>\n",
       "<table border=\"1\" class=\"dataframe\">\n",
       "  <thead>\n",
       "    <tr style=\"text-align: right;\">\n",
       "      <th></th>\n",
       "      <th>neighbourhood</th>\n",
       "      <th>latitude</th>\n",
       "      <th>longitude</th>\n",
       "      <th>host_since</th>\n",
       "      <th>host_listings_count</th>\n",
       "      <th>host_identity_verified</th>\n",
       "      <th>property_type</th>\n",
       "      <th>room_type</th>\n",
       "      <th>accommodates</th>\n",
       "      <th>beds</th>\n",
       "      <th>price</th>\n",
       "      <th>log_price</th>\n",
       "    </tr>\n",
       "  </thead>\n",
       "  <tbody>\n",
       "    <tr>\n",
       "      <th>0</th>\n",
       "      <td>North Beach</td>\n",
       "      <td>37.802260</td>\n",
       "      <td>-122.408180</td>\n",
       "      <td>2015-08-18</td>\n",
       "      <td>1</td>\n",
       "      <td>1</td>\n",
       "      <td>Entire condo</td>\n",
       "      <td>Entire home/apt</td>\n",
       "      <td>4</td>\n",
       "      <td>2</td>\n",
       "      <td>417.0</td>\n",
       "      <td>6.035481</td>\n",
       "    </tr>\n",
       "    <tr>\n",
       "      <th>1</th>\n",
       "      <td>South of Market</td>\n",
       "      <td>37.776050</td>\n",
       "      <td>-122.415930</td>\n",
       "      <td>2021-07-29</td>\n",
       "      <td>32</td>\n",
       "      <td>1</td>\n",
       "      <td>Entire serviced apartment</td>\n",
       "      <td>Entire home/apt</td>\n",
       "      <td>2</td>\n",
       "      <td>1</td>\n",
       "      <td>280.0</td>\n",
       "      <td>5.638355</td>\n",
       "    </tr>\n",
       "    <tr>\n",
       "      <th>2</th>\n",
       "      <td>Noe Valley</td>\n",
       "      <td>37.750430</td>\n",
       "      <td>-122.426090</td>\n",
       "      <td>2013-12-07</td>\n",
       "      <td>1</td>\n",
       "      <td>1</td>\n",
       "      <td>Entire condo</td>\n",
       "      <td>Entire home/apt</td>\n",
       "      <td>4</td>\n",
       "      <td>2</td>\n",
       "      <td>195.0</td>\n",
       "      <td>5.278115</td>\n",
       "    </tr>\n",
       "    <tr>\n",
       "      <th>3</th>\n",
       "      <td>South of Market</td>\n",
       "      <td>37.776214</td>\n",
       "      <td>-122.416405</td>\n",
       "      <td>2014-06-02</td>\n",
       "      <td>1</td>\n",
       "      <td>1</td>\n",
       "      <td>Private room in home</td>\n",
       "      <td>Private room</td>\n",
       "      <td>2</td>\n",
       "      <td>1</td>\n",
       "      <td>60.0</td>\n",
       "      <td>4.110874</td>\n",
       "    </tr>\n",
       "    <tr>\n",
       "      <th>4</th>\n",
       "      <td>Castro/Upper Market</td>\n",
       "      <td>37.758919</td>\n",
       "      <td>-122.434776</td>\n",
       "      <td>2012-03-02</td>\n",
       "      <td>1</td>\n",
       "      <td>0</td>\n",
       "      <td>Private room in condo</td>\n",
       "      <td>Private room</td>\n",
       "      <td>1</td>\n",
       "      <td>1</td>\n",
       "      <td>120.0</td>\n",
       "      <td>4.795791</td>\n",
       "    </tr>\n",
       "  </tbody>\n",
       "</table>\n",
       "</div>"
      ],
      "text/plain": [
       "         neighbourhood   latitude   longitude  host_since  \\\n",
       "0          North Beach  37.802260 -122.408180  2015-08-18   \n",
       "1      South of Market  37.776050 -122.415930  2021-07-29   \n",
       "2           Noe Valley  37.750430 -122.426090  2013-12-07   \n",
       "3      South of Market  37.776214 -122.416405  2014-06-02   \n",
       "4  Castro/Upper Market  37.758919 -122.434776  2012-03-02   \n",
       "\n",
       "   host_listings_count  host_identity_verified              property_type  \\\n",
       "0                    1                       1               Entire condo   \n",
       "1                   32                       1  Entire serviced apartment   \n",
       "2                    1                       1               Entire condo   \n",
       "3                    1                       1       Private room in home   \n",
       "4                    1                       0      Private room in condo   \n",
       "\n",
       "         room_type  accommodates  beds  price  log_price  \n",
       "0  Entire home/apt             4     2  417.0   6.035481  \n",
       "1  Entire home/apt             2     1  280.0   5.638355  \n",
       "2  Entire home/apt             4     2  195.0   5.278115  \n",
       "3     Private room             2     1   60.0   4.110874  \n",
       "4     Private room             1     1  120.0   4.795791  "
      ]
     },
     "execution_count": 2,
     "metadata": {},
     "output_type": "execute_result"
    }
   ],
   "source": [
    "# load dataset\n",
    "\n",
    "df = pd.read_csv('airbnb_dataset_clean.csv')\n",
    "df.head()"
   ]
  },
  {
   "cell_type": "code",
   "execution_count": 3,
   "id": "d1e0c07c",
   "metadata": {
    "scrolled": false
   },
   "outputs": [
    {
     "data": {
      "text/plain": [
       "neighbourhood             0\n",
       "latitude                  0\n",
       "longitude                 0\n",
       "host_since                0\n",
       "host_listings_count       0\n",
       "host_identity_verified    0\n",
       "property_type             0\n",
       "room_type                 0\n",
       "accommodates              0\n",
       "beds                      0\n",
       "price                     0\n",
       "log_price                 0\n",
       "dtype: int64"
      ]
     },
     "execution_count": 3,
     "metadata": {},
     "output_type": "execute_result"
    }
   ],
   "source": [
    "# check missing values\n",
    "\n",
    "df.isna().sum()"
   ]
  },
  {
   "cell_type": "markdown",
   "id": "cf279789",
   "metadata": {},
   "source": [
    "## Feature Engineering"
   ]
  },
  {
   "cell_type": "code",
   "execution_count": 4,
   "id": "f3020c6e",
   "metadata": {},
   "outputs": [],
   "source": [
    "# change 'host_since' show duration instead of dates\n",
    "\n",
    "df['host_since'] = pd.to_datetime(df['host_since'])\n",
    "df['host_duration_days'] = (datetime.now() - df['host_since']).dt.days\n",
    "\n",
    "# drop the original 'host_since' column\n",
    "df = df.drop(columns=['host_since'])"
   ]
  },
  {
   "cell_type": "code",
   "execution_count": 5,
   "id": "3c93767a",
   "metadata": {},
   "outputs": [],
   "source": [
    "# change latitude & longitude to 'distance to reference'\n",
    "\n",
    "reference_point = (37.7749, -122.4194) # San Francisco city's center\n",
    "\n",
    "df['distance_to_reference'] = df.apply(lambda row: geodesic((row['latitude'], row['longitude']), reference_point).miles, axis=1)\n",
    "\n",
    "# drop the original latitude and longitude columns\n",
    "df = df.drop(columns=['latitude', 'longitude'])"
   ]
  },
  {
   "cell_type": "markdown",
   "id": "f4314897",
   "metadata": {},
   "source": [
    "## Encoding"
   ]
  },
  {
   "cell_type": "code",
   "execution_count": 6,
   "id": "ac590233",
   "metadata": {},
   "outputs": [],
   "source": [
    "# binary encoding for 'property_type'\n",
    "\n",
    "binary_encoder = BinaryEncoder(cols=['property_type'])\n",
    "df = binary_encoder.fit_transform(df)"
   ]
  },
  {
   "cell_type": "code",
   "execution_count": 7,
   "id": "52de1fc6",
   "metadata": {
    "scrolled": true
   },
   "outputs": [
    {
     "data": {
      "text/html": [
       "<div>\n",
       "<style scoped>\n",
       "    .dataframe tbody tr th:only-of-type {\n",
       "        vertical-align: middle;\n",
       "    }\n",
       "\n",
       "    .dataframe tbody tr th {\n",
       "        vertical-align: top;\n",
       "    }\n",
       "\n",
       "    .dataframe thead th {\n",
       "        text-align: right;\n",
       "    }\n",
       "</style>\n",
       "<table border=\"1\" class=\"dataframe\">\n",
       "  <thead>\n",
       "    <tr style=\"text-align: right;\">\n",
       "      <th></th>\n",
       "      <th>neighbourhood</th>\n",
       "      <th>host_listings_count</th>\n",
       "      <th>host_identity_verified</th>\n",
       "      <th>property_type_0</th>\n",
       "      <th>property_type_1</th>\n",
       "      <th>property_type_2</th>\n",
       "      <th>property_type_3</th>\n",
       "      <th>property_type_4</th>\n",
       "      <th>property_type_5</th>\n",
       "      <th>accommodates</th>\n",
       "      <th>beds</th>\n",
       "      <th>price</th>\n",
       "      <th>log_price</th>\n",
       "      <th>host_duration_days</th>\n",
       "      <th>distance_to_reference</th>\n",
       "      <th>room_type_Entire home/apt</th>\n",
       "      <th>room_type_Hotel room</th>\n",
       "      <th>room_type_Private room</th>\n",
       "      <th>room_type_Shared room</th>\n",
       "    </tr>\n",
       "  </thead>\n",
       "  <tbody>\n",
       "    <tr>\n",
       "      <th>0</th>\n",
       "      <td>North Beach</td>\n",
       "      <td>1</td>\n",
       "      <td>1</td>\n",
       "      <td>0</td>\n",
       "      <td>0</td>\n",
       "      <td>0</td>\n",
       "      <td>0</td>\n",
       "      <td>0</td>\n",
       "      <td>1</td>\n",
       "      <td>4</td>\n",
       "      <td>2</td>\n",
       "      <td>417.0</td>\n",
       "      <td>6.035481</td>\n",
       "      <td>3011</td>\n",
       "      <td>1.984366</td>\n",
       "      <td>1</td>\n",
       "      <td>0</td>\n",
       "      <td>0</td>\n",
       "      <td>0</td>\n",
       "    </tr>\n",
       "    <tr>\n",
       "      <th>1</th>\n",
       "      <td>South of Market</td>\n",
       "      <td>32</td>\n",
       "      <td>1</td>\n",
       "      <td>0</td>\n",
       "      <td>0</td>\n",
       "      <td>0</td>\n",
       "      <td>0</td>\n",
       "      <td>1</td>\n",
       "      <td>0</td>\n",
       "      <td>2</td>\n",
       "      <td>1</td>\n",
       "      <td>280.0</td>\n",
       "      <td>5.638355</td>\n",
       "      <td>839</td>\n",
       "      <td>0.205849</td>\n",
       "      <td>1</td>\n",
       "      <td>0</td>\n",
       "      <td>0</td>\n",
       "      <td>0</td>\n",
       "    </tr>\n",
       "    <tr>\n",
       "      <th>2</th>\n",
       "      <td>Noe Valley</td>\n",
       "      <td>1</td>\n",
       "      <td>1</td>\n",
       "      <td>0</td>\n",
       "      <td>0</td>\n",
       "      <td>0</td>\n",
       "      <td>0</td>\n",
       "      <td>0</td>\n",
       "      <td>1</td>\n",
       "      <td>4</td>\n",
       "      <td>2</td>\n",
       "      <td>195.0</td>\n",
       "      <td>5.278115</td>\n",
       "      <td>3630</td>\n",
       "      <td>1.726921</td>\n",
       "      <td>1</td>\n",
       "      <td>0</td>\n",
       "      <td>0</td>\n",
       "      <td>0</td>\n",
       "    </tr>\n",
       "    <tr>\n",
       "      <th>3</th>\n",
       "      <td>South of Market</td>\n",
       "      <td>1</td>\n",
       "      <td>1</td>\n",
       "      <td>0</td>\n",
       "      <td>0</td>\n",
       "      <td>0</td>\n",
       "      <td>0</td>\n",
       "      <td>1</td>\n",
       "      <td>1</td>\n",
       "      <td>2</td>\n",
       "      <td>1</td>\n",
       "      <td>60.0</td>\n",
       "      <td>4.110874</td>\n",
       "      <td>3453</td>\n",
       "      <td>0.187323</td>\n",
       "      <td>0</td>\n",
       "      <td>0</td>\n",
       "      <td>1</td>\n",
       "      <td>0</td>\n",
       "    </tr>\n",
       "    <tr>\n",
       "      <th>4</th>\n",
       "      <td>Castro/Upper Market</td>\n",
       "      <td>1</td>\n",
       "      <td>0</td>\n",
       "      <td>0</td>\n",
       "      <td>0</td>\n",
       "      <td>0</td>\n",
       "      <td>1</td>\n",
       "      <td>0</td>\n",
       "      <td>0</td>\n",
       "      <td>1</td>\n",
       "      <td>1</td>\n",
       "      <td>120.0</td>\n",
       "      <td>4.795791</td>\n",
       "      <td>4275</td>\n",
       "      <td>1.386877</td>\n",
       "      <td>0</td>\n",
       "      <td>0</td>\n",
       "      <td>1</td>\n",
       "      <td>0</td>\n",
       "    </tr>\n",
       "  </tbody>\n",
       "</table>\n",
       "</div>"
      ],
      "text/plain": [
       "         neighbourhood  host_listings_count  host_identity_verified  \\\n",
       "0          North Beach                    1                       1   \n",
       "1      South of Market                   32                       1   \n",
       "2           Noe Valley                    1                       1   \n",
       "3      South of Market                    1                       1   \n",
       "4  Castro/Upper Market                    1                       0   \n",
       "\n",
       "   property_type_0  property_type_1  property_type_2  property_type_3  \\\n",
       "0                0                0                0                0   \n",
       "1                0                0                0                0   \n",
       "2                0                0                0                0   \n",
       "3                0                0                0                0   \n",
       "4                0                0                0                1   \n",
       "\n",
       "   property_type_4  property_type_5  accommodates  beds  price  log_price  \\\n",
       "0                0                1             4     2  417.0   6.035481   \n",
       "1                1                0             2     1  280.0   5.638355   \n",
       "2                0                1             4     2  195.0   5.278115   \n",
       "3                1                1             2     1   60.0   4.110874   \n",
       "4                0                0             1     1  120.0   4.795791   \n",
       "\n",
       "   host_duration_days  distance_to_reference  room_type_Entire home/apt  \\\n",
       "0                3011               1.984366                          1   \n",
       "1                 839               0.205849                          1   \n",
       "2                3630               1.726921                          1   \n",
       "3                3453               0.187323                          0   \n",
       "4                4275               1.386877                          0   \n",
       "\n",
       "   room_type_Hotel room  room_type_Private room  room_type_Shared room  \n",
       "0                     0                       0                      0  \n",
       "1                     0                       0                      0  \n",
       "2                     0                       0                      0  \n",
       "3                     0                       1                      0  \n",
       "4                     0                       1                      0  "
      ]
     },
     "execution_count": 7,
     "metadata": {},
     "output_type": "execute_result"
    }
   ],
   "source": [
    "# one-hot encoding for 'room_type'\n",
    "\n",
    "df = pd.get_dummies(df, columns=['room_type'])\n",
    "df.head()"
   ]
  },
  {
   "cell_type": "markdown",
   "id": "cf32a6e8",
   "metadata": {},
   "source": [
    "## Splitting Dataset"
   ]
  },
  {
   "cell_type": "code",
   "execution_count": 8,
   "id": "82689b58",
   "metadata": {},
   "outputs": [],
   "source": [
    "# split the dataset\n",
    "\n",
    "X = df.drop(['neighbourhood','price', 'log_price'], axis=1) # neighborhood is not relevant for predictions\n",
    "y = df['log_price']\n",
    "\n",
    "X_train, X_test, y_train, y_test = train_test_split(X, y, test_size=0.25, random_state=123)"
   ]
  },
  {
   "cell_type": "code",
   "execution_count": 9,
   "id": "2668e081",
   "metadata": {},
   "outputs": [
    {
     "name": "stdout",
     "output_type": "stream",
     "text": [
      "(5406, 16)\n",
      "(5406,)\n",
      "(1802, 16)\n",
      "(1802,)\n"
     ]
    }
   ],
   "source": [
    "# check shape of the train and test data\n",
    "\n",
    "print(X_train.shape)\n",
    "print(y_train.shape)\n",
    "print(X_test.shape)\n",
    "print(y_test.shape)"
   ]
  },
  {
   "cell_type": "markdown",
   "id": "9ea05fad",
   "metadata": {},
   "source": [
    "## Model 1: Linear Regression"
   ]
  },
  {
   "cell_type": "code",
   "execution_count": 10,
   "id": "eae3849c",
   "metadata": {},
   "outputs": [
    {
     "name": "stdout",
     "output_type": "stream",
     "text": [
      "Linear Regression Mean Squared Error: 0.43363410387940554\n"
     ]
    }
   ],
   "source": [
    "# initiate model: Linear Regression\n",
    "linear_reg_model = LinearRegression()\n",
    "linear_reg_model.fit(X_train, y_train)\n",
    "\n",
    "# Predict on the test set\n",
    "linear_reg_predictions = linear_reg_model.predict(X_test)\n",
    "\n",
    "# Evaluate Linear Regression model\n",
    "linear_reg_mse = mean_squared_error(y_test, linear_reg_predictions)\n",
    "print(\"Linear Regression Mean Squared Error:\", linear_reg_mse)"
   ]
  },
  {
   "cell_type": "markdown",
   "id": "341e33bf",
   "metadata": {},
   "source": [
    "## Model 2: Random Forest Regressor"
   ]
  },
  {
   "cell_type": "code",
   "execution_count": 11,
   "id": "1ae6bc0d",
   "metadata": {},
   "outputs": [
    {
     "name": "stdout",
     "output_type": "stream",
     "text": [
      "Random Forest Mean Squared Error: 0.2412663265497383\n"
     ]
    }
   ],
   "source": [
    "random_forest_model = RandomForestRegressor(random_state=123)\n",
    "random_forest_model.fit(X_train, y_train)\n",
    "\n",
    "# Predict on the test set\n",
    "random_forest_predictions = random_forest_model.predict(X_test)\n",
    "\n",
    "# Evaluate Random Forest model\n",
    "random_forest_mse = mean_squared_error(y_test, random_forest_predictions)\n",
    "print(\"Random Forest Mean Squared Error:\", random_forest_mse)"
   ]
  },
  {
   "cell_type": "markdown",
   "id": "b4b7ae94",
   "metadata": {},
   "source": [
    "### Conclusion"
   ]
  },
  {
   "cell_type": "code",
   "execution_count": null,
   "id": "d219586f",
   "metadata": {},
   "outputs": [],
   "source": []
  }
 ],
 "metadata": {
  "kernelspec": {
   "display_name": "Python 3 (ipykernel)",
   "language": "python",
   "name": "python3"
  },
  "language_info": {
   "codemirror_mode": {
    "name": "ipython",
    "version": 3
   },
   "file_extension": ".py",
   "mimetype": "text/x-python",
   "name": "python",
   "nbconvert_exporter": "python",
   "pygments_lexer": "ipython3",
   "version": "3.9.13"
  }
 },
 "nbformat": 4,
 "nbformat_minor": 5
}
